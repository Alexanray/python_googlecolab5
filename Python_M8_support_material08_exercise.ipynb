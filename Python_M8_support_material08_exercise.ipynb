{
  "nbformat": 4,
  "nbformat_minor": 0,
  "metadata": {
    "colab": {
      "provenance": [],
      "toc_visible": true,
      "include_colab_link": true
    },
    "kernelspec": {
      "name": "python3",
      "display_name": "Python 3"
    }
  },
  "cells": [
    {
      "cell_type": "markdown",
      "metadata": {
        "id": "view-in-github",
        "colab_type": "text"
      },
      "source": [
        "<a href=\"https://colab.research.google.com/github/Alexanray/python_googlecolab5/blob/main/Python_M8_support_material08_exercise.ipynb\" target=\"_parent\"><img src=\"https://colab.research.google.com/assets/colab-badge.svg\" alt=\"Open In Colab\"/></a>"
      ]
    },
    {
      "cell_type": "markdown",
      "metadata": {
        "id": "KJqp9AANOCtf"
      },
      "source": [
        "<img src=\"https://raw.githubusercontent.com/andre-marcos-perez/ebac-course-utils/main/media/logo/newebac_logo_black_half.png\" alt=\"ebac-logo\">\n",
        "\n",
        "---\n",
        "\n",
        "# **Módulo 08** | Python: Tratamento de Erros\n",
        "Caderno de **Exercícios**<br>\n",
        "Aluno [Alexandre Jardim](https://www.linkedin.com/in/alexandrejardim/)\n",
        "\n",
        "---"
      ]
    },
    {
      "cell_type": "markdown",
      "metadata": {
        "id": "d9jDtUbDOE1-"
      },
      "source": [
        "# **Tópicos**\n",
        "\n",
        "<ol type=\"1\">\n",
        "  <li>Tipos de erros;</li>\n",
        "  <li>Erros de sintaxe;</li>\n",
        "  <li>Erros em tempo de execução.</li>\n",
        "</ol>"
      ]
    },
    {
      "cell_type": "markdown",
      "metadata": {
        "id": "SmoHgt-lwkpD"
      },
      "source": [
        "---"
      ]
    },
    {
      "cell_type": "markdown",
      "metadata": {
        "id": "GABI6OW8OfQ2"
      },
      "source": [
        "# **Exercícios**"
      ]
    },
    {
      "cell_type": "markdown",
      "metadata": {
        "id": "muD1vxozykSC"
      },
      "source": [
        "## 1\\. Erros de sintaxe"
      ]
    },
    {
      "cell_type": "markdown",
      "metadata": {
        "id": "ahrFfCuBxJKs"
      },
      "source": [
        "Identifique o erro de sintaxe nos trechos de código abaixo e corrija-os para que o trecho de código funcione."
      ]
    },
    {
      "cell_type": "markdown",
      "metadata": {
        "id": "sCluir52-zGM"
      },
      "source": [
        " - Laços de repetição."
      ]
    },
    {
      "cell_type": "code",
      "metadata": {
        "id": "eebFnvGd-zSC"
      },
      "source": [
        "credito = {'123': 750, '456': 812, '789': 980}\n",
        "\n",
        "for chave, valor in credito.items():\n",
        "  print(f'Para o documento {chave}, o valor do escore de crédito é {valor}.\")\n",
        "\n",
        "  #A aspa dupla no final está fechando a f-string de maneira incorreta."
      ],
      "execution_count": null,
      "outputs": []
    },
    {
      "cell_type": "markdown",
      "source": [
        "Segue a correção abaixo:"
      ],
      "metadata": {
        "id": "iGcRtaefoobp"
      }
    },
    {
      "cell_type": "code",
      "source": [
        "credito = {'123': 750, '456': 812, '789': 980}\n",
        "\n",
        "for chave, valor in credito.items():\n",
        "  print(f'Para o documento {chave}, o valor do escore de crédito é {valor}.')"
      ],
      "metadata": {
        "colab": {
          "base_uri": "https://localhost:8080/"
        },
        "id": "U4kR8IBeoYuA",
        "outputId": "88fd96e2-2b86-465b-9f3c-a813f01f9987"
      },
      "execution_count": null,
      "outputs": [
        {
          "output_type": "stream",
          "name": "stdout",
          "text": [
            "Para o documento 123, o valor do escore de crédito é 750.\n",
            "Para o documento 456, o valor do escore de crédito é 812.\n",
            "Para o documento 789, o valor do escore de crédito é 980.\n"
          ]
        }
      ]
    },
    {
      "cell_type": "markdown",
      "metadata": {
        "id": "NKDaQYt889VZ"
      },
      "source": [
        " - Funções"
      ]
    },
    {
      "cell_type": "code",
      "metadata": {
        "id": "GZHnCmRH89hg"
      },
      "source": [
        "def pi() --> float:\n",
        "  return 3.14159265359\n",
        "\n",
        "pi = pi()\n",
        "print(pi)\n",
        "\n",
        "# O problema aqui é que está reutilizando o nome pi para a função e, em seguida, atribuindo o resultado dessa função à mesma variável pi. Isso sobrescreve a função com o valor retornado pela função, o que pode não ser o comportamento desejado."
      ],
      "execution_count": null,
      "outputs": []
    },
    {
      "cell_type": "markdown",
      "source": [
        "Segue a correção abaixo:"
      ],
      "metadata": {
        "id": "1K5Ph5QMo0ug"
      }
    },
    {
      "cell_type": "code",
      "source": [
        "def calcular_pi() -> float:\n",
        "    return 3.14159265359\n",
        "\n",
        "valor_pi = calcular_pi()\n",
        "print(valor_pi)"
      ],
      "metadata": {
        "colab": {
          "base_uri": "https://localhost:8080/"
        },
        "id": "EP37kiGSo5dz",
        "outputId": "b928b00c-8291-4c03-fe37-b8894e4208b0"
      },
      "execution_count": null,
      "outputs": [
        {
          "output_type": "stream",
          "name": "stdout",
          "text": [
            "3.14159265359\n"
          ]
        }
      ]
    },
    {
      "cell_type": "markdown",
      "metadata": {
        "id": "i6EIHmQZ8KMy"
      },
      "source": [
        "- Programação Funcional"
      ]
    },
    {
      "cell_type": "code",
      "metadata": {
        "id": "_1a3EEYU8JsU"
      },
      "source": [
        "emails = ['andre.perez@gmail.com', 'andre.perez@live.com', 'andre.perez@yahoo.com']\n",
        "provedor_da_google = lambda email: 'gmail in email\n",
        "\n",
        "emails_google = filter(provedor_da_google, emails)\n",
        "print(list(emails_google))\n",
        "#Nessa correção, a expressão lambda foi ajustada para lambda email: 'gmail' in email, o que significa que a função lambda verifica se a substring 'gmail' está presente em cada endereço de e-mail."
      ],
      "execution_count": null,
      "outputs": []
    },
    {
      "cell_type": "markdown",
      "source": [
        "Segue a correção abaixo:"
      ],
      "metadata": {
        "id": "3tlUdlLP8nJk"
      }
    },
    {
      "cell_type": "code",
      "source": [
        "emails = ['andre.perez@gmail.com', 'andre.perez@live.com', 'andre.perez@yahoo.com']\n",
        "provedor_da_google = lambda email: 'gmail' in email\n",
        "\n",
        "emails_google = filter(provedor_da_google, emails)\n",
        "print(list(emails_google))"
      ],
      "metadata": {
        "colab": {
          "base_uri": "https://localhost:8080/"
        },
        "id": "1wkhqL8G8lAl",
        "outputId": "13d7731c-9888-4b3c-e861-f8e34d17f098"
      },
      "execution_count": null,
      "outputs": [
        {
          "output_type": "stream",
          "name": "stdout",
          "text": [
            "['andre.perez@gmail.com']\n"
          ]
        }
      ]
    },
    {
      "cell_type": "markdown",
      "metadata": {
        "id": "KI9zQRT2xa7m"
      },
      "source": [
        "- Programação orientação a objetos"
      ]
    },
    {
      "cell_type": "code",
      "metadata": {
        "id": "XD-C996C7gvN"
      },
      "source": [
        "class Pessoa(object):\n",
        "\n",
        "  def __init__(self, nome: str, idade: int, documento: str):\n",
        "    self.nome = nome\n",
        "    self.idade = idade\n",
        "    self.documento = documento\n",
        "\n",
        "andre = Pessoa(nome=\"Andre\", idade=30, document=\"123\")\n",
        "\n",
        "# O erro no código está na criação da instância da classe Pessoa. Foi usado o argumento document em vez de documento ao criar o objeto."
      ],
      "execution_count": null,
      "outputs": []
    },
    {
      "cell_type": "markdown",
      "source": [
        "Segue a correção abaixo:\n",
        "\n"
      ],
      "metadata": {
        "id": "CMco3CbyowoU"
      }
    },
    {
      "cell_type": "code",
      "source": [
        "class Pessoa(object):\n",
        "    def __init__(self, nome: str, idade: int, documento: str):\n",
        "        self.nome = nome\n",
        "        self.idade = idade\n",
        "        self.documento = documento\n",
        "\n",
        "# Correção: Use \"documento\" em vez de \"document\"\n",
        "andre = Pessoa(nome=\"Andre\", idade=30, documento=\"123\")"
      ],
      "metadata": {
        "id": "CkPxmPzWoEkV"
      },
      "execution_count": null,
      "outputs": []
    },
    {
      "cell_type": "markdown",
      "metadata": {
        "id": "zMN1Q3jdwoJm"
      },
      "source": [
        "---"
      ]
    },
    {
      "cell_type": "markdown",
      "metadata": {
        "id": "qh4asQbf6dBX"
      },
      "source": [
        "## 2\\. Erros em tempo de execução"
      ]
    },
    {
      "cell_type": "markdown",
      "metadata": {
        "id": "71iuLvVJ6dB-"
      },
      "source": [
        "Neste exercício vamos trabalhar com o arquivo csv com dados de crédito, definido abaixo. Execute cada uma das células de código para escrever os arquivos na sua máquina virtual."
      ]
    },
    {
      "cell_type": "code",
      "metadata": {
        "id": "FCBXZUQd3frz",
        "colab": {
          "base_uri": "https://localhost:8080/"
        },
        "outputId": "c185c89e-34b4-4b20-8469-4d3fb81de27b"
      },
      "source": [
        "%%writefile credito.csv\n",
        "id_vendedor,valor_emprestimos,quantidade_emprestimos,data\n",
        "104271,448.0,1,20161208\n",
        "21476,826.7,3,20161208\n",
        "87440,313.6,3,20161208\n",
        "15980,808.0,6,20161208\n",
        "215906,2212.0,5,20161208\n",
        "33696,2771.3,2,20161208\n",
        "33893,2240.0,3,20161208\n",
        "214946,4151.0,18,20161208\n",
        "123974,2021.95,2,20161208\n",
        "225870,4039.0,2,20161208\n"
      ],
      "execution_count": null,
      "outputs": [
        {
          "output_type": "stream",
          "name": "stdout",
          "text": [
            "Overwriting credito.csv\n"
          ]
        }
      ]
    },
    {
      "cell_type": "markdown",
      "metadata": {
        "id": "FIe14G9H3779"
      },
      "source": [
        "O código abaixo deve calcular o total emprestado por cada vendedor mas está \"estourando\" a exceção `ValueError` devido a um erro no conjunto de dados. Utilize a estrutura `try-catch` para garantir que o código seja executado com sucesso.\n",
        "\n",
        "**Atenção:** Você não deve alterar o arquivo de dados."
      ]
    },
    {
      "cell_type": "markdown",
      "source": [],
      "metadata": {
        "id": "666GbOHqeB0Q"
      }
    },
    {
      "cell_type": "markdown",
      "source": [
        "**Atualização do código com Try e Except:**"
      ],
      "metadata": {
        "id": "qmlmx4uWTslh"
      }
    },
    {
      "cell_type": "code",
      "metadata": {
        "id": "cOkNYOdd5GMK",
        "colab": {
          "base_uri": "https://localhost:8080/"
        },
        "outputId": "91ee7549-6c86-4d86-9524-1258bca619e4"
      },
      "source": [
        "def valor_total_emprestimo(valor: float, quantidade: int) -> float:\n",
        "    return valor * quantidade\n",
        "\n",
        "emprestimos = []\n",
        "\n",
        "try:\n",
        "    with open(file='./credito.csv', mode='r', encoding='utf8') as fp:\n",
        "        fp.readline()  # cabeçalho\n",
        "        linha = fp.readline()\n",
        "        while linha:\n",
        "            linha_emprestimo = {}\n",
        "            linha_elementos = linha.strip().split(sep=',')\n",
        "            linha_emprestimo['id_vendedor'] = linha_elementos[0]\n",
        "            linha_emprestimo['valor_emprestimos'] = float(linha_elementos[1])\n",
        "            linha_emprestimo['quantidade_emprestimos'] = int(linha_elementos[2])\n",
        "            linha_emprestimo['data'] = linha_elementos[3]\n",
        "            emprestimos.append(linha_emprestimo)\n",
        "            linha = fp.readline()\n",
        "except ValueError as e:\n",
        "    print(f\"Erro: {e}\")\n",
        "    # Adicione tratamento adicional se necessário\n",
        "\n",
        "emprestimos_total = []\n",
        "for emprestimo in emprestimos:\n",
        "    valor_total = valor_total_emprestimo(valor=emprestimo['valor_emprestimos'], quantidade=emprestimo['quantidade_emprestimos'])\n",
        "    emprestimos_total.append({emprestimo['id_vendedor']: valor_total})\n",
        "\n",
        "for emprestimo_total in emprestimos_total:\n",
        "    print(emprestimo_total)\n"
      ],
      "execution_count": null,
      "outputs": [
        {
          "output_type": "stream",
          "name": "stdout",
          "text": [
            "{'104271': 448.0}\n",
            "{'21476': 2480.1000000000004}\n",
            "{'87440': 940.8000000000001}\n",
            "{'15980': 4848.0}\n",
            "{'215906': 11060.0}\n",
            "{'33696': 5542.6}\n",
            "{'33893': 6720.0}\n",
            "{'214946': 74718.0}\n",
            "{'123974': 4043.9}\n",
            "{'225870': 8078.0}\n"
          ]
        }
      ]
    },
    {
      "cell_type": "markdown",
      "metadata": {
        "id": "0dKgZEQB8ZwP"
      },
      "source": [
        "O resultado final deve ser a impressão da seguinte lista:\n",
        "\n",
        "```\n",
        "{'104271': 448.0}\n",
        "{'21476': 2480.1000000000004}\n",
        "{'87440': 940.8000000000001}\n",
        "{'15980': 4848.0}\n",
        "{'215906': 11060.0}\n",
        "{'33696': 5542.6}\n",
        "{'33893': 6720.0}\n",
        "{'214946': 74718.0}\n",
        "{'123974': 4043.9}\n",
        "{'225870': 8078.0}\n",
        "```"
      ]
    }
  ]
}